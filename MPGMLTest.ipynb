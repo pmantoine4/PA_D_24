{
  "nbformat": 4,
  "nbformat_minor": 0,
  "metadata": {
    "colab": {
      "provenance": [],
      "mount_file_id": "1dC6NuqstK6c743xFK2J08s61k7GlZUud",
      "authorship_tag": "ABX9TyPdeSMK36cg67EZZ1cjL3ag",
      "include_colab_link": true
    },
    "kernelspec": {
      "name": "python3",
      "display_name": "Python 3"
    },
    "language_info": {
      "name": "python"
    }
  },
  "cells": [
    {
      "cell_type": "markdown",
      "metadata": {
        "id": "view-in-github",
        "colab_type": "text"
      },
      "source": [
        "<a href=\"https://colab.research.google.com/github/pmantoine4/PA_D_24/blob/main/MPGMLTest.ipynb\" target=\"_parent\"><img src=\"https://colab.research.google.com/assets/colab-badge.svg\" alt=\"Open In Colab\"/></a>"
      ]
    },
    {
      "cell_type": "code",
      "execution_count": 1,
      "metadata": {
        "id": "BppvrgTfPsYD"
      },
      "outputs": [],
      "source": [
        "# TESTING THE MODEL\n",
        "\n",
        "import numpy as np\n",
        "import pickle"
      ]
    },
    {
      "cell_type": "code",
      "source": [
        "model= pickle.load(open('/content/drive/MyDrive/Classroom/Data Science: Predictive Analytics Cohort 6/Spring 2024 - Predictive Analytics/Projects/MPG Prediction/model.pkl','rb'))\n"
      ],
      "metadata": {
        "id": "GDEh1nLZQRbx"
      },
      "execution_count": 2,
      "outputs": []
    },
    {
      "cell_type": "code",
      "source": [
        "test_x = np.zeros((1,7))\n",
        "test_x"
      ],
      "metadata": {
        "colab": {
          "base_uri": "https://localhost:8080/"
        },
        "id": "y_9ydGsuRx0Z",
        "outputId": "a93bac87-8788-4bb5-9d99-90ef122556ac"
      },
      "execution_count": 3,
      "outputs": [
        {
          "output_type": "execute_result",
          "data": {
            "text/plain": [
              "array([[0., 0., 0., 0., 0., 0., 0.]])"
            ]
          },
          "metadata": {},
          "execution_count": 3
        }
      ]
    },
    {
      "cell_type": "code",
      "source": [
        "test_x[0,0] = 6       # cylinders -- int64\n",
        "test_x[0,1] = 200     # displacement -- float64\n",
        "test_x[0,2] = 85      # horsepower -- float64\n",
        "test_x[0,3] = 2587    # weight -- float64\n",
        "test_x[0,4] = 16      # acceleration -- float64\n",
        "test_x[0,5] = 70      # year -- int64\n",
        "test_x[0,6] = 1       # origin -- int64"
      ],
      "metadata": {
        "id": "Lz3kO1_4SPob"
      },
      "execution_count": 4,
      "outputs": []
    },
    {
      "cell_type": "code",
      "source": [
        "# The result obtained as prediction in this notebook \"MPGMLTest\"  (21.47 mpg) is the same for the LinearRegression_model in the \"MPG Prediction\" notebook\n",
        "prediction = model.predict(test_x)\n",
        "print(f'The model {model} predicts  for a car a mpg of {round(float(prediction[0]), 2)}')"
      ],
      "metadata": {
        "colab": {
          "base_uri": "https://localhost:8080/"
        },
        "id": "Rz5XeSVBSeBB",
        "outputId": "3a75832e-657d-4d55-9bb9-e6d7963e1bab"
      },
      "execution_count": 5,
      "outputs": [
        {
          "output_type": "stream",
          "name": "stdout",
          "text": [
            "The model LinearRegression() predicts  for a car a mpg of 21.47\n"
          ]
        },
        {
          "output_type": "stream",
          "name": "stderr",
          "text": [
            "/usr/local/lib/python3.10/dist-packages/sklearn/base.py:439: UserWarning: X does not have valid feature names, but LinearRegression was fitted with feature names\n",
            "  warnings.warn(\n"
          ]
        }
      ]
    }
  ]
}