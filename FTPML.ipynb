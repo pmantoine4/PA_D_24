{
  "nbformat": 4,
  "nbformat_minor": 0,
  "metadata": {
    "colab": {
      "provenance": [],
      "mount_file_id": "1dcLgh12AnhRi2J5eZ-nDtUSdFckqxA4T",
      "authorship_tag": "ABX9TyO83m/zmZ2Gcz9buXxS6+Pa",
      "include_colab_link": true
    },
    "kernelspec": {
      "name": "python3",
      "display_name": "Python 3"
    },
    "language_info": {
      "name": "python"
    }
  },
  "cells": [
    {
      "cell_type": "markdown",
      "metadata": {
        "id": "view-in-github",
        "colab_type": "text"
      },
      "source": [
        "<a href=\"https://colab.research.google.com/github/pmantoine4/PA_D_24/blob/main/FTPML.ipynb\" target=\"_parent\"><img src=\"https://colab.research.google.com/assets/colab-badge.svg\" alt=\"Open In Colab\"/></a>"
      ]
    },
    {
      "cell_type": "code",
      "execution_count": null,
      "metadata": {
        "id": "JVrMas1Ul7fI"
      },
      "outputs": [],
      "source": [
        "#TESTING THE MODEL\n",
        "\n",
        "import numpy as np\n",
        "import pickle"
      ]
    },
    {
      "cell_type": "code",
      "source": [
        "model = pickle.load(open('/content/drive/MyDrive/Classroom/Data Science: Predictive Analytics Cohort 6/Spring 2024 - Predictive Analytics/Projects/Food Trucks Prediction/model.pkl', 'rb'))"
      ],
      "metadata": {
        "id": "5qRjL3x_-Q5S"
      },
      "execution_count": null,
      "outputs": []
    },
    {
      "cell_type": "code",
      "source": [
        "test_x = np.array([5])\n",
        "test_x = test_x.reshape(-1, 1)"
      ],
      "metadata": {
        "id": "_h83DqlZ_SE1"
      },
      "execution_count": null,
      "outputs": []
    },
    {
      "cell_type": "code",
      "source": [
        "test_x[0,0] = 5   # Population -- float"
      ],
      "metadata": {
        "id": "ldRh9tnr_j3q"
      },
      "execution_count": null,
      "outputs": []
    },
    {
      "cell_type": "code",
      "source": [
        "test_x"
      ],
      "metadata": {
        "colab": {
          "base_uri": "https://localhost:8080/"
        },
        "id": "UzWdDvrp_wso",
        "outputId": "91bb487f-cc41-4576-bf0e-b121f702b251"
      },
      "execution_count": null,
      "outputs": [
        {
          "output_type": "execute_result",
          "data": {
            "text/plain": [
              "array([[5]])"
            ]
          },
          "metadata": {},
          "execution_count": 11
        }
      ]
    },
    {
      "cell_type": "code",
      "source": [
        "prediction = model.predict(test_x)\n",
        "#print(f'Prediction for {model} is {prediction}')\n",
        "print(f'The model {model} predicts a profit  of ${round(float(prediction[0]),2)}')"
      ],
      "metadata": {
        "colab": {
          "base_uri": "https://localhost:8080/"
        },
        "id": "kWik1S4iAjDd",
        "outputId": "87219c05-a590-444a-cca3-8e2f234fcab2"
      },
      "execution_count": null,
      "outputs": [
        {
          "output_type": "stream",
          "name": "stdout",
          "text": [
            "The model LinearRegression() predicts a profit  of $1.71\n"
          ]
        }
      ]
    }
  ]
}